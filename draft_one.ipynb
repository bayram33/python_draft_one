{
 "cells": [
  {
   "cell_type": "markdown",
   "metadata": {},
   "source": [
    "### General uses\n"
   ]
  },
  {
   "cell_type": "code",
   "execution_count": 1,
   "metadata": {},
   "outputs": [
    {
     "name": "stdout",
     "output_type": "stream",
     "text": [
      "bayram salman\n"
     ]
    }
   ],
   "source": [
    "print(\"bayram salman\")"
   ]
  },
  {
   "cell_type": "code",
   "execution_count": 8,
   "metadata": {},
   "outputs": [
    {
     "name": "stdout",
     "output_type": "stream",
     "text": [
      "106\n"
     ]
    }
   ],
   "source": [
    "amount = 100\n",
    "tax = 0.06\n",
    "total = amount + amount * tax\n",
    "print(int(total))"
   ]
  },
  {
   "cell_type": "code",
   "execution_count": 12,
   "metadata": {},
   "outputs": [
    {
     "name": "stdout",
     "output_type": "stream",
     "text": [
      "aliş 7\n"
     ]
    }
   ],
   "source": [
    "# Take the input\n",
    "\n",
    "name = input(\"What is your name ? \\n\")\n",
    "age = int(input(\"How old are you \\n\"))\n",
    "\n",
    "print(name + \" \" + str(age))"
   ]
  },
  {
   "cell_type": "code",
   "execution_count": 27,
   "metadata": {},
   "outputs": [
    {
     "name": "stdout",
     "output_type": "stream",
     "text": [
      "computer choice rock\n",
      "user choice scissor\n",
      "you lose\n"
     ]
    }
   ],
   "source": [
    "# Rock Paper Scissor\n",
    "\n",
    "import random\n",
    "\n",
    "computer_choice = random.choice([\"rock\", \"paper\", \"scissor\"])\n",
    "user_choice = input(\"Do you want rock , paper , scissor \")\n",
    "\n",
    "print(f\"computer choice {computer_choice}\")\n",
    "print(f\"user choice {user_choice}\")\n",
    "\n",
    "if computer_choice == user_choice:\n",
    "    print(\"tie\")\n",
    "elif user_choice == \"rock\" and computer_choice == \"scissor\":\n",
    "    print(\"you win\")\n",
    "elif user_choice == \"paper\" and computer_choice == \"rock\":\n",
    "    print(\"you win\")\n",
    "elif user_choice == \"scissor\" and computer_choice == \"paper\":\n",
    "    print(\"you win\")\n",
    "else:\n",
    "    print(\"you lose\")"
   ]
  },
  {
   "cell_type": "code",
   "execution_count": 4,
   "metadata": {},
   "outputs": [
    {
     "name": "stdout",
     "output_type": "stream",
     "text": [
      "Your guess is 5\n",
      "you lose :( \n",
      " number of roll is 4\n"
     ]
    }
   ],
   "source": [
    "# Roll Dice\n",
    "\n",
    "import random\n",
    "\n",
    "roll = random.randint(1, 5)\n",
    "guess = int(input(\"gues the roll dice\"))\n",
    "print(f\"Your guess is {guess}\")\n",
    "\n",
    "if guess == roll:\n",
    "    print(f\"you win :) number of roll is {roll}\")\n",
    "else:\n",
    "    print(f\"you lose :( \\n number of roll is {roll}\")"
   ]
  },
  {
   "cell_type": "code",
   "execution_count": 15,
   "metadata": {},
   "outputs": [
    {
     "name": "stdout",
     "output_type": "stream",
     "text": [
      "6\n"
     ]
    }
   ],
   "source": [
    "# Expenses calculator\n",
    "\n",
    "expenses = []\n",
    "\n",
    "num_expenses = int(input(\"Enter number of expenses\"))\n",
    "\n",
    "for i in range(num_expenses):\n",
    "    expenses.append(int(input(\"Enter  an expense : \")))\n",
    "\n",
    "sum = 0\n",
    "for i in expenses:\n",
    "    sum = sum + i\n",
    "\n",
    "print(sum)"
   ]
  },
  {
   "cell_type": "code",
   "execution_count": 3,
   "metadata": {},
   "outputs": [
    {
     "name": "stdout",
     "output_type": "stream",
     "text": [
      "We are showing the following movies\n",
      "Star Wars\n",
      "Star Wars 2\n",
      "Star Wars 3\n",
      "asdü is not a valid movie\n"
     ]
    }
   ],
   "source": [
    "# Dictionary\n",
    "# Movie scheduler\n",
    "\n",
    "current_movies = {\"Star Wars\": 1977, \"Star Wars 2\": 1980, \"Star Wars 3\": 1983}\n",
    "\n",
    "print(\"We are showing the following movies\")\n",
    "\n",
    "for key in current_movies:\n",
    "    print(key)\n",
    "\n",
    "movie = input(\"What movie would you like the showtime for \\n\")\n",
    "showtime = current_movies.get(movie)\n",
    "\n",
    "if showtime == None:\n",
    "    print(f\"{movie} is not a valid movie\")\n",
    "else:\n",
    "    print(f\"{movie} will be released in {showtime}\")"
   ]
  },
  {
   "cell_type": "code",
   "execution_count": 24,
   "metadata": {},
   "outputs": [
    {
     "name": "stdout",
     "output_type": "stream",
     "text": [
      "bayram\tapple\n",
      "['fish', 'chicken', 'rice']\n",
      "dict_items([('breakfast', ['egg', 'bread', 'milk']), ('lunch', ['nuts', 'apple', 'rice']), ('dinner', ['fish', 'chicken', 'rice'])])\n",
      "*************************************\n",
      "breakfast : ['egg', 'bread', 'milk']\n",
      "lunch : ['nuts', 'apple', 'rice']\n",
      "dinner : ['fish', 'chicken', 'rice']\n"
     ]
    }
   ],
   "source": [
    "menu = {\n",
    "    \"breakfast\": [\"egg\", \"bread\", \"milk\"],\n",
    "    \"lunch\": [\"nuts\", \"apple\", \"rice\"],\n",
    "    \"dinner\": [\"fish\", \"chicken\", \"rice\"],\n",
    "}\n",
    "\n",
    "print(\"bayram\\t\" + menu[\"lunch\"][1])\n",
    "print(menu.get(\"dinner\"))\n",
    "print(menu.items())\n",
    "\n",
    "print(\"*************************************\")\n",
    "\n",
    "for name, fact in menu.items():\n",
    "    print(name, \":\", fact)"
   ]
  },
  {
   "cell_type": "code",
   "execution_count": 1,
   "metadata": {},
   "outputs": [
    {
     "name": "stdout",
     "output_type": "stream",
     "text": [
      "Student email\n",
      "byrm@gamil.com\n",
      "as@gamil.com\n"
     ]
    }
   ],
   "source": [
    "contacts = {\n",
    "    \"number\": 3,\n",
    "    \"students\": [\n",
    "        {\n",
    "            \"name\": \"bayram\",\n",
    "            \"email\": \"byrm@gamil.com\",\n",
    "        },\n",
    "        {\n",
    "            \"name\": \"as\",\n",
    "            \"email\": \"as@gamil.com\",\n",
    "        },\n",
    "    ],\n",
    "}\n",
    "\n",
    "print(\"Student email\")\n",
    "\n",
    "for key in contacts[\"students\"]:\n",
    "    print(key[\"email\"])\n"
   ]
  },
  {
   "cell_type": "markdown",
   "metadata": {},
   "source": [
    "### JSON"
   ]
  },
  {
   "cell_type": "code",
   "execution_count": 25,
   "metadata": {},
   "outputs": [
    {
     "name": "stdout",
     "output_type": "stream",
     "text": [
      "Sabah\n",
      "Milliyet\n",
      "Halk TV\n",
      "Sözcü\n",
      "Aspor\n",
      "Hürriyet\n",
      "NTV\n",
      "Sözcü\n",
      "Fotomaç\n",
      "Cumhuriyet\n",
      "Mynet\n",
      "Gazete Duvar\n",
      "TRT Haber\n",
      "BBC Türkçe\n",
      "BirGün\n",
      "TRT Haber\n",
      "Milliyet\n",
      "Yeniçağ\n",
      "BloombergHT\n",
      "Mynet\n"
     ]
    }
   ],
   "source": [
    "# JSON\n",
    "import requests\n",
    "\n",
    "response=requests.get(\"https://newsapi.org/v2/top-headlines?country=tr&apiKey=fa462ce2ec974bfc9a345acaaae761fb\")\n",
    "json=response.json()\n",
    "json\n",
    "for article in json[\"articles\"]:\n",
    "    print(article[\"author\"])"
   ]
  },
  {
   "cell_type": "code",
   "execution_count": 35,
   "metadata": {},
   "outputs": [
    {
     "name": "stdout",
     "output_type": "stream",
     "text": [
      "a rolled 11\n",
      "b rolled 10\n",
      "a wins\n"
     ]
    }
   ],
   "source": [
    "import random \n",
    "\n",
    "def rol_dice():\n",
    "    result =random.randint(1,6) + random.randint(1, 6)\n",
    "    return result\n",
    "\n",
    "def main():\n",
    "    player1=input(\"Enter player 1's name \")\n",
    "    player2=input(\"Enter player 2's name \")\n",
    "    roll1=rol_dice()\n",
    "    roll2=rol_dice()\n",
    "    print(player1,\"rolled\",roll1)\n",
    "    print(player2,\"rolled\",roll2)\n",
    "    if roll1>roll2:\n",
    "        print(player1,\"wins\")\n",
    "    elif roll2>roll1:\n",
    "        print(player2,\"wins\")\n",
    "    else:\n",
    "        print(\"you tie\")\n",
    "\n",
    "\n",
    "main()\n",
    "    "
   ]
  },
  {
   "cell_type": "markdown",
   "metadata": {},
   "source": [
    "### OOP"
   ]
  },
  {
   "cell_type": "code",
   "execution_count": 10,
   "metadata": {},
   "outputs": [],
   "source": [
    "class Developer:\n",
    "    def __init__(self, name, surname, age, skill, salary):\n",
    "        print(\"İlk önce bu çalışır her zaman\")\n",
    "        self.name = name\n",
    "        self.surname = surname\n",
    "        self.age = age\n",
    "        self.skill = skill\n",
    "        self.salary = salary\n",
    "\n",
    "    def bring_info(self):\n",
    "        print(\n",
    "            \"\"\"\n",
    "              Information of Developer\n",
    "              name  :{} \n",
    "              surname  :{}\n",
    "              age  :{}\n",
    "              skill  :{}\n",
    "              skill  :{}\n",
    "              \"\"\".format(\n",
    "                self.name, self.surname, self.age, self.skill, self.salary\n",
    "            )\n",
    "        )\n",
    "\n",
    "    def increase_salary(self, amount):\n",
    "        print(\"Your salary is increasing\")\n",
    "        self.salary = self.salary + amount\n",
    "\n",
    "    def insert_skill(self, lang):\n",
    "        print(\"New skill is inserting\")\n",
    "        self.skill.append(lang)"
   ]
  },
  {
   "cell_type": "code",
   "execution_count": 11,
   "metadata": {},
   "outputs": [
    {
     "name": "stdout",
     "output_type": "stream",
     "text": [
      "İlk önce bu çalışır her zaman\n",
      "\n",
      "              Information of Developer\n",
      "              name  :bayram \n",
      "              surname  :salman\n",
      "              age  :23\n",
      "              skill  :['python', 'dart']\n",
      "              skill  :5000\n",
      "              \n"
     ]
    }
   ],
   "source": [
    "dev1=Developer(\"bayram\",\"salman\",\"23\",[\"python\",\"dart\"],5000)\n",
    "dev1.bring_info()"
   ]
  },
  {
   "cell_type": "code",
   "execution_count": 12,
   "metadata": {},
   "outputs": [
    {
     "name": "stdout",
     "output_type": "stream",
     "text": [
      "Your salary is increasing\n",
      "New skill is inserting\n",
      "\n",
      "              Information of Developer\n",
      "              name  :bayram \n",
      "              surname  :salman\n",
      "              age  :23\n",
      "              skill  :['python', 'dart', 'Flutter']\n",
      "              skill  :5300\n",
      "              \n"
     ]
    }
   ],
   "source": [
    "dev1.increase_salary(300)\n",
    "dev1.insert_skill(\"Flutter\")\n",
    "\n",
    "dev1.bring_info()"
   ]
  },
  {
   "cell_type": "code",
   "execution_count": 13,
   "metadata": {},
   "outputs": [],
   "source": [
    "class Employees(Developer):\n",
    "    pass"
   ]
  },
  {
   "cell_type": "code",
   "execution_count": 14,
   "metadata": {},
   "outputs": [
    {
     "name": "stdout",
     "output_type": "stream",
     "text": [
      "İlk önce bu çalışır her zaman\n",
      "\n",
      "              Information of Developer\n",
      "              name  :aliş \n",
      "              surname  :salman\n",
      "              age  :6\n",
      "              skill  :['sleep', 'eat', 'play']\n",
      "              skill  :0\n",
      "              \n"
     ]
    }
   ],
   "source": [
    "emp1=Employees(\"aliş\",\"salman\",6,[\"sleep\",\"eat\",\"play\"],0)\n",
    "emp1.bring_info()"
   ]
  },
  {
   "cell_type": "code",
   "execution_count": 15,
   "metadata": {},
   "outputs": [
    {
     "data": {
      "text/plain": [
       "['__class__',\n",
       " '__delattr__',\n",
       " '__dict__',\n",
       " '__dir__',\n",
       " '__doc__',\n",
       " '__eq__',\n",
       " '__format__',\n",
       " '__ge__',\n",
       " '__getattribute__',\n",
       " '__getstate__',\n",
       " '__gt__',\n",
       " '__hash__',\n",
       " '__init__',\n",
       " '__init_subclass__',\n",
       " '__le__',\n",
       " '__lt__',\n",
       " '__module__',\n",
       " '__ne__',\n",
       " '__new__',\n",
       " '__reduce__',\n",
       " '__reduce_ex__',\n",
       " '__repr__',\n",
       " '__setattr__',\n",
       " '__sizeof__',\n",
       " '__str__',\n",
       " '__subclasshook__',\n",
       " '__weakref__',\n",
       " 'age',\n",
       " 'bring_info',\n",
       " 'increase_salary',\n",
       " 'insert_skill',\n",
       " 'name',\n",
       " 'salary',\n",
       " 'skill',\n",
       " 'surname']"
      ]
     },
     "execution_count": 15,
     "metadata": {},
     "output_type": "execute_result"
    }
   ],
   "source": [
    "dir(emp1)"
   ]
  },
  {
   "cell_type": "code",
   "execution_count": 16,
   "metadata": {},
   "outputs": [
    {
     "name": "stdout",
     "output_type": "stream",
     "text": [
      "İlk önce bu çalışır her zaman\n"
     ]
    }
   ],
   "source": [
    "emp2=Employees(\"alddsdiş\",\"as\",6,[\"sleep\",\"eat\",\"play\"],1212)"
   ]
  },
  {
   "cell_type": "markdown",
   "metadata": {},
   "source": [
    "### Inheritance\n"
   ]
  },
  {
   "cell_type": "code",
   "execution_count": 17,
   "metadata": {},
   "outputs": [],
   "source": [
    "class Employee:\n",
    "    def __init__(self, name, surname, age, experience):\n",
    "        print(\"Employee constructor run\")\n",
    "        self.name = name\n",
    "        self.surname = surname\n",
    "        self.age = age\n",
    "        self.experience = experience\n",
    "\n",
    "    def info(self):\n",
    "        print(\n",
    "            \"\"\"\n",
    "              Adı : {}\n",
    "              Soyadı : {}\n",
    "              Yaş : {}\n",
    "              Deneyim Yılı : {}\n",
    "              \"\"\".format(\n",
    "                self.name, self.surname, self.age, self.experience\n",
    "            )\n",
    "        )"
   ]
  },
  {
   "cell_type": "code",
   "execution_count": 23,
   "metadata": {},
   "outputs": [],
   "source": [
    "class Director(Employee):\n",
    "    def __init__(self, name, surname, age, experience, responsable):\n",
    "        print(\"Employee constructor run\")\n",
    "        super().__init__(name, surname, age, experience)\n",
    "        self.responable = responsable"
   ]
  },
  {
   "cell_type": "code",
   "execution_count": 24,
   "metadata": {},
   "outputs": [
    {
     "name": "stdout",
     "output_type": "stream",
     "text": [
      "Employee constructor run\n",
      "\n",
      "              Adı : bayram\n",
      "              Soyadı : salman\n",
      "              Yaş : 23\n",
      "              Deneyim Yılı : 0\n",
      "              \n"
     ]
    }
   ],
   "source": [
    "emp1=Employee(\"bayram\",\"salman\",23,0)\n",
    "emp1.info()"
   ]
  },
  {
   "cell_type": "code",
   "execution_count": 26,
   "metadata": {},
   "outputs": [
    {
     "name": "stdout",
     "output_type": "stream",
     "text": [
      "Employee constructor run\n",
      "Employee constructor run\n",
      "\n",
      "              Adı : ali\n",
      "              Soyadı : salman\n",
      "              Yaş : 6\n",
      "              Deneyim Yılı : 1\n",
      "              \n"
     ]
    }
   ],
   "source": [
    "dic1=Director(\"ali\",\"salman\",6,1,12)\n",
    "dic1.info()"
   ]
  },
  {
   "cell_type": "code",
   "execution_count": 29,
   "metadata": {},
   "outputs": [
    {
     "data": {
      "text/plain": [
       "['__class__',\n",
       " '__delattr__',\n",
       " '__dict__',\n",
       " '__dir__',\n",
       " '__doc__',\n",
       " '__eq__',\n",
       " '__format__',\n",
       " '__ge__',\n",
       " '__getattribute__',\n",
       " '__getstate__',\n",
       " '__gt__',\n",
       " '__hash__',\n",
       " '__init__',\n",
       " '__init_subclass__',\n",
       " '__le__',\n",
       " '__lt__',\n",
       " '__module__',\n",
       " '__ne__',\n",
       " '__new__',\n",
       " '__reduce__',\n",
       " '__reduce_ex__',\n",
       " '__repr__',\n",
       " '__setattr__',\n",
       " '__sizeof__',\n",
       " '__str__',\n",
       " '__subclasshook__',\n",
       " '__weakref__',\n",
       " 'age',\n",
       " 'experience',\n",
       " 'info',\n",
       " 'name',\n",
       " 'responable',\n",
       " 'surname']"
      ]
     },
     "execution_count": 29,
     "metadata": {},
     "output_type": "execute_result"
    }
   ],
   "source": [
    "dir(dic1)"
   ]
  },
  {
   "cell_type": "markdown",
   "metadata": {},
   "source": [
    "### Eror Handling"
   ]
  },
  {
   "cell_type": "code",
   "execution_count": 7,
   "metadata": {},
   "outputs": [
    {
     "name": "stdout",
     "output_type": "stream",
     "text": [
      "Invalid input\n"
     ]
    }
   ],
   "source": [
    "try:\n",
    "    a=int(input(\"Please enter first number:\"))\n",
    "    b=int(input(\"Please enter second number: \"))\n",
    "    result=a//b\n",
    "    remainder=a%b\n",
    "    print(f\"{a} / {b} is {result} remainder {remainder}\")\n",
    "except:\n",
    "    print(\"Invalid input\")\n",
    "    "
   ]
  },
  {
   "cell_type": "code",
   "execution_count": 21,
   "metadata": {},
   "outputs": [
    {
     "name": "stdout",
     "output_type": "stream",
     "text": [
      "Wrong input just number\n",
      "Finally\n",
      "Bundan sonraki kodlara devam\n"
     ]
    }
   ],
   "source": [
    "def calculate():\n",
    "    try:\n",
    "        a = int(input(\"Please enter first number:\"))\n",
    "        b = int(input(\"Please enter second number: \"))\n",
    "        result = a // b\n",
    "        remainder = a % b\n",
    "        print(f\"{a} / {b} is {result} remainder {remainder}\")\n",
    "    except ValueError:\n",
    "        print(\"Wrong input just number\")\n",
    "    except ZeroDivisionError:\n",
    "        print(\"Cannot divide by zero\")\n",
    "    finally:\n",
    "        print(\"Finally\")\n",
    "    print(\"Bundan sonraki kodlara devam\")\n",
    "\n",
    "\n",
    "calculate()"
   ]
  },
  {
   "cell_type": "code",
   "execution_count": 35,
   "metadata": {},
   "outputs": [
    {
     "name": "stdout",
     "output_type": "stream",
     "text": [
      "Güzel kardeşim string gir\n"
     ]
    }
   ],
   "source": [
    "# Exception \n",
    "\n",
    "def reverse_string(s):\n",
    "    if type(s) != str:\n",
    "        raise ValueError()\n",
    "    else:\n",
    "        list = []\n",
    "        for i in range(len(s) - 1, -1, -1):\n",
    "            list.append(s[i])\n",
    "        print(list)\n",
    "\n",
    "\n",
    "\n",
    "try:\n",
    "    reverse_string(12)\n",
    "except ValueError:\n",
    "    print(\"Güzel kardeşim string gir\")\n",
    "    "
   ]
  },
  {
   "cell_type": "code",
   "execution_count": null,
   "metadata": {},
   "outputs": [],
   "source": []
  }
 ],
 "metadata": {
  "kernelspec": {
   "display_name": "Python 3",
   "language": "python",
   "name": "python3"
  },
  "language_info": {
   "codemirror_mode": {
    "name": "ipython",
    "version": 3
   },
   "file_extension": ".py",
   "mimetype": "text/x-python",
   "name": "python",
   "nbconvert_exporter": "python",
   "pygments_lexer": "ipython3",
   "version": "3.11.1"
  },
  "orig_nbformat": 4
 },
 "nbformat": 4,
 "nbformat_minor": 2
}
